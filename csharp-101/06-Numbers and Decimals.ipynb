{
  "cells": [
    {
      "cell_type": "markdown",
      "metadata": {},
      "source": [
        "# Numbers and Decimals\n",
        "\n",
        "Watch the full [C# 101 video](https://www.youtube.com/watch?v=kdKcpF9roeU&list=PLdo4fOcmZ0oVxKLQCHpiUWun7vlJJvUiN&index=7) for this module."
      ]
    },
    {
      "cell_type": "markdown",
      "metadata": {},
      "source": [
        "## Working With Fixed Point types\n",
        "\n",
        "The `Decimal` type is similar to `double`s. They don't have as big a range, but they do have much higher precision.\n",
        "\n",
        "> What's the range of a decimal type?"
      ]
    },
    {
      "cell_type": "markdown",
      "metadata": {},
      "source": [
        "Questions<br>\n",
        "What is meant by \"fixed point types\"?"
      ]
    },
    {
      "cell_type": "code",
      "execution_count": 1,
      "metadata": {
        "dotnet_interactive": {
          "language": "csharp"
        },
        "vscode": {
          "languageId": "polyglot-notebook"
        }
      },
      "outputs": [
        {
          "name": "stdout",
          "output_type": "stream",
          "text": [
            "The range of the decimal type is -79228162514264337593543950335 to 79228162514264337593543950335\r\n"
          ]
        }
      ],
      "source": [
        "decimal min = decimal.MinValue;\n",
        "decimal max = decimal.MaxValue;\n",
        "Console.WriteLine($\"The range of the decimal type is {min} to {max}\");"
      ]
    },
    {
      "cell_type": "markdown",
      "metadata": {},
      "source": [
        "> How do doubles and decimals compare in precision?"
      ]
    },
    {
      "cell_type": "markdown",
      "metadata": {},
      "source": [
        "The decimal class is 12 times more precise."
      ]
    },
    {
      "cell_type": "code",
      "execution_count": 2,
      "metadata": {
        "dotnet_interactive": {
          "language": "csharp"
        },
        "vscode": {
          "languageId": "polyglot-notebook"
        }
      },
      "outputs": [
        {
          "name": "stdout",
          "output_type": "stream",
          "text": [
            "0.3333333333333333\n",
            "0.3333333333333333333333333333\n"
          ]
        }
      ],
      "source": [
        "double a = 1.0;\n",
        "double b = 3.0;\n",
        "Console.WriteLine(a / b);\n",
        "\n",
        "decimal c = 1.0M;\n",
        "decimal d = 3.0M;\n",
        "Console.WriteLine(c / d);"
      ]
    },
    {
      "cell_type": "markdown",
      "metadata": {},
      "source": [
        "You can see that a decimals have a higher precision than doubles."
      ]
    },
    {
      "cell_type": "markdown",
      "metadata": {},
      "source": [
        "# Playground\n",
        "\n",
        "Play around with what you've learned! Here's some starting ideas:\n",
        "\n",
        "> Can you find the area of a circle with a radius of 2.5 inches?\n",
        ">\n",
        "> What does the answer look like when you change number types, such as int, short, and decimal.\n",
        ">\n",
        "> Hint: You can write `Math.PI` as pi, instead of writing the answer out."
      ]
    },
    {
      "cell_type": "markdown",
      "metadata": {},
      "source": [
        "Questions<br>\n",
        "Why am I getting this error message when I try to use the integer or decimal type: \"Cannot implicitly convert type 'double' to 'int'. An explicit conversion exists (are you missing a cast?)\"?<br>\n",
        "What is a short number type?"
      ]
    },
    {
      "cell_type": "markdown",
      "metadata": {},
      "source": [
        "Math.PI holds a value that is a double type, so its result can't be assigned to a different number type; you'd have to convert it to that specific number type first for the expression to work.<br>\n"
      ]
    },
    {
      "cell_type": "code",
      "execution_count": 9,
      "metadata": {
        "dotnet_interactive": {
          "language": "csharp"
        },
        "vscode": {
          "languageId": "polyglot-notebook"
        }
      },
      "outputs": [
        {
          "name": "stdout",
          "output_type": "stream",
          "text": [
            "Playground\n",
            "15.707963267948966\n",
            "15.707963267948950\n",
            "12\n"
          ]
        }
      ],
      "source": [
        "Console.WriteLine(\"Playground\");\n",
        "\n",
        "//pi * 2.5 * 2 = 15.707963267948966192313216916398\n",
        "\n",
        "double doubleArea = Math.PI * 2.5 *2;\n",
        "\n",
        "Console.WriteLine(doubleArea);\n",
        "\n",
        "decimal decimalArea = (decimal)Math.PI * (decimal)2.5 * 2m;\n",
        "\n",
        "Console.WriteLine(decimalArea);\n",
        "\n",
        "int integerArea = (int)Math.PI * (int)2.5 * 2;\n",
        "\n",
        "Console.WriteLine(integerArea);\n",
        "\n",
        "/*convert number types by either:\n",
        "1. explicit casting like above\n",
        "\n",
        "2. Convert class \n",
        "    decimal - decimal decimalArea = Convert.ToDecimal(Math.PI) * Convert.ToDecimal(2.5) * 2m; \n",
        "    integer - decimal integerArea = Convert.ToInt32(Math.PI) * Convert.ToInt32(2.5) * 2;\n",
        "\n",
        "Syntax Note: The parenthese placement is inverted between these two expressions\n",
        "*/"
      ]
    },
    {
      "cell_type": "markdown",
      "metadata": {},
      "source": [
        "# Continue learning\n",
        "\n",
        "There are plenty more resources out there to learn!\n",
        "> [⏩ Next Module - Branches (if)](https://ntbk.io/csharp101-notebook07)\n",
        ">\n",
        "> [⏪ Last Module - Numbers and Integer Precision](https://ntbk.io/csharp101-notebook05)\n",
        ">\n",
        "> [Watch the video](https://www.youtube.com/watch?v=kdKcpF9roeU&list=PLdo4fOcmZ0oVxKLQCHpiUWun7vlJJvUiN&index=7)\n",
        ">\n",
        "> [Documentation: Numbers in C#](https://docs.microsoft.com/dotnet/csharp/tour-of-csharp/tutorials/numbers-in-csharp?WT.mc_id=Educationalcsharp-c9-scottha)\n",
        ">\n",
        "> [Start at the beginning: What is C#?](https://www.youtube.com/watch?v=BM4CHBmAPh4&list=PLdo4fOcmZ0oVxKLQCHpiUWun7vlJJvUiN&index=1)"
      ]
    },
    {
      "cell_type": "markdown",
      "metadata": {},
      "source": [
        "# Other resources\n",
        "\n",
        "Here's some more places to explore:\n",
        "> [Other 101 Videos](https://dotnet.microsoft.com/learn/videos?WT.mc_id=csharpnotebook-35129-website)\n",
        ">\n",
        "> [Microsoft Learn](https://docs.microsoft.com/learn/dotnet/?WT.mc_id=csharpnotebook-35129-website)\n",
        ">\n",
        "> [C# Documentation](https://docs.microsoft.com/dotnet/csharp/?WT.mc_id=csharpnotebook-35129-website)"
      ]
    }
  ],
  "metadata": {
    "kernelspec": {
      "display_name": ".NET (C#)",
      "language": "C#",
      "name": ".net-csharp"
    },
    "language_info": {
      "file_extension": ".cs",
      "mimetype": "text/x-csharp",
      "name": "C#",
      "pygments_lexer": "csharp",
      "version": "8.0"
    },
    "polyglot_notebook": {
      "kernelInfo": {
        "defaultKernelName": "csharp",
        "items": [
          {
            "aliases": [],
            "name": "csharp"
          }
        ]
      }
    }
  },
  "nbformat": 4,
  "nbformat_minor": 4
}
